{
 "cells": [
  {
   "cell_type": "code",
   "execution_count": 1,
   "metadata": {
    "id": "AP2bFs2Ckf44"
   },
   "outputs": [],
   "source": [
    "import numpy as np\n",
    "import matplotlib.pyplot as plt\n",
    "import pmagpy.pmag as pmag\n",
    "import pandas as pd\n",
    "import scipy as sci\n",
    "from scipy import interpolate"
   ]
  },
  {
   "cell_type": "markdown",
   "metadata": {},
   "source": [
    "## User Inputs"
   ]
  },
  {
   "cell_type": "code",
   "execution_count": 18,
   "metadata": {},
   "outputs": [
    {
     "data": {
      "text/plain": [
       "array([ 0,  1,  2,  3,  4,  5,  6,  7,  8,  9, 10, 11, 12, 13, 14, 15, 16,\n",
       "       17, 18, 19, 20, 21, 22, 23, 24, 25, 26, 27, 28, 29, 30, 31, 32, 33,\n",
       "       34, 35, 36, 37, 38, 39, 40, 41, 42, 43, 44, 45, 46, 47, 48, 49, 50,\n",
       "       51, 52, 53, 54, 55, 56, 57, 58, 59, 60, 61, 62, 63, 64, 65, 66, 67,\n",
       "       68, 69])"
      ]
     },
     "execution_count": 18,
     "metadata": {},
     "output_type": "execute_result"
    }
   ],
   "source": [
    "site_lat = 40 #idk might have to do something to correct for negative values\n",
    "site_lon = 50 \n",
    "age_range = np.arange(0,70) #how far back in time do you want to run the code. Used in paleomag section when deciding which ages to pull from the databases\n",
    "therm = False #does the user want the therm criteria (specified paleomag data)? Used in paleomag section\n",
    "age = 290000 #approx age of sample, used in production rates calculation section\n",
    "altitude = 100 #user input, in meters, for pressure correction. Used in pressure section\n",
    "stdatm = 0 #user inputs 1 for standard, 0 for ERA40. Used in pressure section\n",
    "w = 0.06; # water content, from 0-1. Used in production rates calculation\n",
    "system = 1 #1 for qtz, 2 for cpx, 3 for olivine. Used in production rates calculation\n",
    "age_range"
   ]
  },
  {
   "cell_type": "markdown",
   "metadata": {},
   "source": [
    "## Paleointensity Section\n",
    "- Cell 1: import paleomag (IAGA + Geomagia) database\n",
    "- Cell 2: uses the user input values for lat/lon, determines what the paleolatitude variations have been from present to 70 Ma.\n",
    "- Cell 3: saves only the paleolatitude values from the pmagpy data\n",
    "- Cell 4: Based on the age_range specified by the user, code will drop any data points outside the age range.\n",
    "    - This cell also includes any criteria specifications\n",
    "- Cell 5: assigns bin_names in 5 myr increments to the dataset. \n",
    "- Cell 6: calculates mean VDM's for each 5 Myr bin, while also printing out how many datapoints were used to calculate this mean."
   ]
  },
  {
   "cell_type": "code",
   "execution_count": 5,
   "metadata": {},
   "outputs": [],
   "source": [
    "#CELL 1\n",
    "Paleomag_database = pd.read_excel('Paleomag_database.xlsx') #excel sheet with all pmag data. 0-70 Ma, all criteria"
   ]
  },
  {
   "cell_type": "code",
   "execution_count": 6,
   "metadata": {},
   "outputs": [],
   "source": [
    "#CELL 2\n",
    "time = np.linspace(0,70,14) #will report paleolatitude values from 0-70 Million years ago, in 5 Myr increments \n",
    "vals = [] #storage for pmagpy data \n",
    "for i in time:\n",
    "    data=['NA',site_lat,site_lon,i] # North American plate, lat and lon of San Diego at 100 Ma (user inputs lat and long of site of interest)\n",
    "    pmag.apwp(data, print_results = False) #change to true if you want to see the output\n",
    "    vals.append(pmag.apwp(data))\n",
    "    "
   ]
  },
  {
   "cell_type": "code",
   "execution_count": 7,
   "metadata": {},
   "outputs": [],
   "source": [
    "#CELL 3\n",
    "df = pd.DataFrame(vals) #create a dataframe with the pmagpy data\n",
    "df.columns = ['Age', 'Paleolat', 'Dec','Inc','Pole_lat','Pole_Long'] #rename the columns\n",
    "Paleolat = df['Paleolat'] #call paleolat whenever you want all the paleolatitudes for some time frame\n",
    "#Paleolat"
   ]
  },
  {
   "cell_type": "code",
   "execution_count": 8,
   "metadata": {},
   "outputs": [],
   "source": [
    "#CELL 4\n",
    "Paleomag_database.drop(Paleomag_database[Paleomag_database['AGE'] < age_range[0]].index, inplace = True) #age\n",
    "Paleomag_database.drop(Paleomag_database[Paleomag_database['AGE'] > age_range[-1]].index, inplace = True) #age\n",
    "Paleomag_database\n",
    "\n",
    "#Criteria evaluation\n",
    "pd.set_option(\"display.max_rows\", None, \"display.max_columns\", None) # run this line if you want to see all the rows\n",
    "\n",
    "#here, the user will input what sort of criteria they want on the paleomag data used to calculate Rc\n",
    "#True = therm parameters, will only save the green bois\n",
    "HeZ = Paleomag_database[Paleomag_database['IntM'] == '   HeZ       ' ].index\n",
    "LTD_DHT_S = Paleomag_database[Paleomag_database['IntM'] == '   LTD-DHT-S ' ].index\n",
    "M = Paleomag_database[Paleomag_database['IntM'] == '   M         ' ].index\n",
    "MSPDp = Paleomag_database[Paleomag_database['IntM'] == '   MSPDp     ' ].index\n",
    "ONR = Paleomag_database[Paleomag_database['IntM'] == '   ONR       ' ].index\n",
    "S = Paleomag_database[Paleomag_database['IntM'] == '   S         ' ].index\n",
    "ST = Paleomag_database[Paleomag_database['IntM'] == '   ST        ' ].index\n",
    "SW = Paleomag_database[Paleomag_database['IntM'] == '   SW        ' ].index\n",
    "TZ = Paleomag_database[Paleomag_database['IntM'] == '   TZ        ' ].index\n",
    "Tminus = Paleomag_database[Paleomag_database['IntM'] == '   T-        ' ].index\n",
    "W = Paleomag_database[Paleomag_database['IntM'] == '   W         ' ].index\n",
    "WB = Paleomag_database[Paleomag_database['IntM'] == '   WB        ' ].index\n",
    "WZ = Paleomag_database[Paleomag_database['IntM'] == '   WZ        ' ].index\n",
    "Z = Paleomag_database[Paleomag_database['IntM'] == '   Z         ' ].index\n",
    "Tv = Paleomag_database[Paleomag_database['IntM'] == '   Tv        ' ].index\n",
    "\n",
    "if therm == True: \n",
    "    #the following lines index string values (criteria from excel sheet). Spaces are indicative of how the names are stored in the excel sheet.\n",
    "    #Delete these row indexes from dataFrame\n",
    "    Paleomag_database.drop(HeZ, inplace=True)\n",
    "    Paleomag_database.drop(LTD_DHT_S, inplace=True)\n",
    "    Paleomag_database.drop(M, inplace=True)\n",
    "    Paleomag_database.drop(MSPDp, inplace=True)\n",
    "    Paleomag_database.drop(ONR, inplace=True)\n",
    "    Paleomag_database.drop(S, inplace=True)\n",
    "    Paleomag_database.drop(ST, inplace=True)\n",
    "    Paleomag_database.drop(SW, inplace=True)\n",
    "    Paleomag_database.drop(TZ, inplace=True)\n",
    "    Paleomag_database.drop(Tv, inplace=True)\n",
    "    Paleomag_database.drop(Tminus, inplace=True)\n",
    "    Paleomag_database.drop(W, inplace=True)\n",
    "    Paleomag_database.drop(WB, inplace=True)\n",
    "    Paleomag_database.drop(WZ, inplace=True)\n",
    "    Paleomag_database.drop(Z, inplace=True)\n",
    "#Paleomag_database #slight problem with this: if you change True to False, you have to re-run the code from the beginning (probably something to do with the order these are written in, not refreshing things)\\\n"
   ]
  },
  {
   "cell_type": "code",
   "execution_count": 9,
   "metadata": {},
   "outputs": [],
   "source": [
    "#CELL 5\n",
    "bin_1 = Paleomag_database[Paleomag_database['AGE'] <= 0.05]\n",
    "bin_2 = Paleomag_database[(Paleomag_database['AGE'] <= 5) & (Paleomag_database['AGE'] > 0.05)]\n",
    "bin_3 = Paleomag_database[(Paleomag_database['AGE'] <= 10) & (Paleomag_database['AGE'] > 5)]\n",
    "bin_4 = Paleomag_database[(Paleomag_database['AGE'] <= 15) & (Paleomag_database['AGE'] > 10)]\n",
    "bin_5 = Paleomag_database[(Paleomag_database['AGE'] <= 20) & (Paleomag_database['AGE'] > 15)]\n",
    "bin_6 = Paleomag_database[(Paleomag_database['AGE'] <= 25) & (Paleomag_database['AGE'] > 20)]\n",
    "bin_7 = Paleomag_database[(Paleomag_database['AGE'] <= 30) & (Paleomag_database['AGE'] > 25)]\n",
    "bin_8 = Paleomag_database[(Paleomag_database['AGE'] <= 35) & (Paleomag_database['AGE'] > 30)]\n",
    "bin_9 = Paleomag_database[(Paleomag_database['AGE'] <= 40) & (Paleomag_database['AGE'] > 35)]\n",
    "bin_10 = Paleomag_database[(Paleomag_database['AGE'] <= 45) & (Paleomag_database['AGE'] > 40)]\n",
    "bin_11 = Paleomag_database[(Paleomag_database['AGE'] <= 50) & (Paleomag_database['AGE'] > 45)]\n",
    "bin_12 = Paleomag_database[(Paleomag_database['AGE'] <= 55) & (Paleomag_database['AGE'] > 50)]\n",
    "bin_13 = Paleomag_database[(Paleomag_database['AGE'] <= 60) & (Paleomag_database['AGE'] > 55)]\n",
    "bin_14 = Paleomag_database[(Paleomag_database['AGE'] <= 65) & (Paleomag_database['AGE'] > 60)]\n",
    "bin_15 = Paleomag_database[(Paleomag_database['AGE'] <= 70) & (Paleomag_database['AGE'] > 65)]"
   ]
  },
  {
   "cell_type": "code",
   "execution_count": 10,
   "metadata": {},
   "outputs": [
    {
     "name": "stdout",
     "output_type": "stream",
     "text": [
      "The number of data points from present to 0.05 Ma is 6806\n",
      "The number of data points from 0.05 to 5 Ma is 1733\n",
      "The number of data points from 5 to 10 Ma is 174\n",
      "The number of data points from 10 to 15 Ma is 201\n",
      "The number of data points from 15 to 20 Ma is 86\n",
      "The number of data points from 20 to 25 Ma is 17\n",
      "The number of data points from 25 to 30 Ma is 48\n",
      "The number of data points from 30 to 35 Ma is 69\n",
      "The number of data points from 35 to 40 Ma is 37\n",
      "The number of data points from 40 to 45 Ma is 31\n",
      "The number of data points from 45 to 50 Ma is 22\n",
      "The number of data points from 50 to 55 Ma is 16\n",
      "The number of data points from 55 to 60 Ma is 43\n",
      "The number of data points from 60 to 65 Ma is 112\n",
      "The number of data points from 65 to 70 Ma is 55\n"
     ]
    }
   ],
   "source": [
    "#CELL 6\n",
    "means = []\n",
    "median = []\n",
    "bin_1 = bin_1[pd.to_numeric(bin_1['VDM'], errors='coerce').notnull()] #dropping the &nbsp vals  \n",
    "bin_1['VDM'] = bin_1['VDM'].astype(float)\n",
    "means.append((bin_1[\"VDM\"].mean()))#calculates mean\n",
    "median.append(bin_1['VDM'].median())\n",
    "index_1 = bin_1.index\n",
    "n_1 = len(index_1)\n",
    "print('The number of data points from present to 0.05 Ma is', n_1)\n",
    "\n",
    "bin_2 = bin_2[pd.to_numeric(bin_2['VDM'], errors='coerce').notnull()] #dropping the &nbsp vals  \n",
    "bin_2['VDM'] = bin_2['VDM'].astype(float)\n",
    "means.append((bin_2[\"VDM\"].mean()))#calculates mean\n",
    "median.append(bin_2['VDM'].median())\n",
    "index_2 = bin_2.index\n",
    "n_2 = len(index_2)\n",
    "print('The number of data points from 0.05 to 5 Ma is', n_2)\n",
    "\n",
    "bin_3 = bin_3[pd.to_numeric(bin_3['VDM'], errors='coerce').notnull()] #dropping the &nbsp vals  \n",
    "bin_3['VDM'] = bin_3['VDM'].astype(float)\n",
    "means.append((bin_3[\"VDM\"].mean()))#calculates mean\n",
    "median.append(bin_3['VDM'].median())\n",
    "index_3 = bin_3.index\n",
    "n_3 = len(index_3)\n",
    "print('The number of data points from 5 to 10 Ma is', n_3)\n",
    "\n",
    "bin_4 = bin_4[pd.to_numeric(bin_4['VDM'], errors='coerce').notnull()] #dropping the &nbsp vals  \n",
    "bin_4['VDM'] = bin_4['VDM'].astype(float)\n",
    "means.append((bin_4[\"VDM\"].mean()))#calculates mean\n",
    "median.append(bin_4['VDM'].median())\n",
    "index_4 = bin_4.index\n",
    "n_4 = len(index_4)\n",
    "print('The number of data points from 10 to 15 Ma is', n_4)\n",
    "\n",
    "bin_5 = bin_5[pd.to_numeric(bin_5['VDM'], errors='coerce').notnull()] #dropping the &nbsp vals  \n",
    "bin_5['VDM'] = bin_5['VDM'].astype(float)\n",
    "means.append((bin_5[\"VDM\"].mean()))#calculates mean\n",
    "median.append(bin_5['VDM'].median())\n",
    "index_5 = bin_5.index\n",
    "n_5 = len(index_5)\n",
    "print('The number of data points from 15 to 20 Ma is', n_5)\n",
    "\n",
    "bin_6 = bin_6[pd.to_numeric(bin_6['VDM'], errors='coerce').notnull()] #dropping the &nbsp vals  \n",
    "bin_6['VDM'] = bin_6['VDM'].astype(float)\n",
    "means.append((bin_6[\"VDM\"].mean()))#calculates mean\n",
    "median.append(bin_6['VDM'].median())\n",
    "index_6 = bin_6.index\n",
    "n_6 = len(index_6)\n",
    "print('The number of data points from 20 to 25 Ma is', n_6)\n",
    "\n",
    "bin_7 = bin_7[pd.to_numeric(bin_7['VDM'], errors='coerce').notnull()] #dropping the &nbsp vals  \n",
    "bin_7['VDM'] = bin_7['VDM'].astype(float)\n",
    "means.append((bin_7[\"VDM\"].mean()))#calculates mean\n",
    "median.append(bin_7['VDM'].median())\n",
    "index_7 = bin_7.index\n",
    "n_7 = len(index_7)\n",
    "print('The number of data points from 25 to 30 Ma is', n_7)\n",
    "\n",
    "bin_8 = bin_8[pd.to_numeric(bin_8['VDM'], errors='coerce').notnull()] #dropping the &nbsp vals  \n",
    "bin_8['VDM'] = bin_8['VDM'].astype(float)\n",
    "means.append((bin_8[\"VDM\"].mean()))#calculates mean\n",
    "median.append(bin_8['VDM'].median())\n",
    "index_8 = bin_8.index\n",
    "n_8 = len(index_8)\n",
    "print('The number of data points from 30 to 35 Ma is', n_8)\n",
    "\n",
    "bin_9 = bin_9[pd.to_numeric(bin_9['VDM'], errors='coerce').notnull()] #dropping the &nbsp vals  \n",
    "bin_9['VDM'] = bin_9['VDM'].astype(float)\n",
    "means.append((bin_9[\"VDM\"].mean()))#calculates mean\n",
    "median.append(bin_9['VDM'].median())\n",
    "index_9 = bin_9.index\n",
    "n_9 = len(index_9)\n",
    "print('The number of data points from 35 to 40 Ma is', n_9)\n",
    "\n",
    "bin_10 = bin_10[pd.to_numeric(bin_10['VDM'], errors='coerce').notnull()] #dropping the &nbsp vals  \n",
    "bin_10['VDM'] = bin_10['VDM'].astype(float)\n",
    "means.append((bin_10[\"VDM\"].mean()))#calculates mean\n",
    "median.append(bin_10['VDM'].median())\n",
    "index_10 = bin_10.index\n",
    "n_10 = len(index_10)\n",
    "print('The number of data points from 40 to 45 Ma is', n_10)\n",
    "\n",
    "bin_11 = bin_11[pd.to_numeric(bin_11['VDM'], errors='coerce').notnull()] #dropping the &nbsp vals  \n",
    "bin_11['VDM'] = bin_11['VDM'].astype(float)\n",
    "means.append((bin_11[\"VDM\"].mean()))#calculates mean\n",
    "median.append(bin_11['VDM'].median())\n",
    "index_11 = bin_11.index\n",
    "n_11 = len(index_11)\n",
    "print('The number of data points from 45 to 50 Ma is', n_11)\n",
    "\n",
    "bin_12 = bin_12[pd.to_numeric(bin_12['VDM'], errors='coerce').notnull()] #dropping the &nbsp vals  \n",
    "bin_12['VDM'] = bin_12['VDM'].astype(float)\n",
    "means.append((bin_12[\"VDM\"].mean()))#calculates mean\n",
    "median.append(bin_12['VDM'].median())\n",
    "index_12 = bin_12.index\n",
    "n_12 = len(index_12)\n",
    "print('The number of data points from 50 to 55 Ma is', n_12)\n",
    "\n",
    "bin_13 = bin_13[pd.to_numeric(bin_13['VDM'], errors='coerce').notnull()] #dropping the &nbsp vals  \n",
    "bin_13['VDM'] = bin_13['VDM'].astype(float)\n",
    "means.append((bin_13[\"VDM\"].mean()))#calculates mean\n",
    "median.append(bin_13['VDM'].median())\n",
    "index_13 = bin_13.index\n",
    "n_13 = len(index_13)\n",
    "print('The number of data points from 55 to 60 Ma is', n_13)\n",
    "\n",
    "bin_14 = bin_14[pd.to_numeric(bin_14['VDM'], errors='coerce').notnull()] #dropping the &nbsp vals  \n",
    "bin_14['VDM'] = bin_14['VDM'].astype(float)\n",
    "means.append((bin_14[\"VDM\"].mean()))#calculates mean\n",
    "median.append(bin_14['VDM'].median())\n",
    "index_14 = bin_14.index\n",
    "n_14 = len(index_14)\n",
    "print('The number of data points from 60 to 65 Ma is', n_14)\n",
    "\n",
    "bin_15 = bin_15[pd.to_numeric(bin_15['VDM'], errors='coerce').notnull()] #dropping the &nbsp vals  \n",
    "bin_15['VDM'] = bin_15['VDM'].astype(float)\n",
    "means.append((bin_15[\"VDM\"].mean()))#calculates mean\n",
    "median.append(bin_15['VDM'].median())\n",
    "index_15 = bin_15.index\n",
    "n_15 = len(index_15)\n",
    "print('The number of data points from 65 to 70 Ma is', n_15)"
   ]
  },
  {
   "cell_type": "markdown",
   "metadata": {
    "id": "it-nF0TR4fIt"
   },
   "source": [
    "## Cutoff Rigidty (Rc) Calculation\n",
    "- Uses the paleolatitude values from the paleomagnetism section to calculate Rc\n",
    "- Based on 6th order polynomial from Lifton (2014) "
   ]
  },
  {
   "cell_type": "code",
   "execution_count": 92,
   "metadata": {
    "id": "XUlBkvh3vxAl"
   },
   "outputs": [
    {
     "data": {
      "text/plain": [
       "[<matplotlib.lines.Line2D at 0x7fa0ec1e4790>]"
      ]
     },
     "execution_count": 92,
     "metadata": {},
     "output_type": "execute_result"
    },
    {
     "data": {
      "image/png": "[encoded data removed]",
      "text/plain": [
       "<Figure size 1600x320 with 1 Axes>"
      ]
     },
     "metadata": {},
     "output_type": "display_data"
    }
   ],
   "source": [
    "M0 = 7.95 #[*10^22 Am^2], per Katie. constant, magnetic moment today for reference field.\n",
    "Rc = []\n",
    "temp = []\n",
    "for i in range(len(Paleolat)): \n",
    "    Rc_calc = (means[i]/M0)*(6.89901*np.cos(np.deg2rad(Paleolat[i])) - 103.241*(np.cos(np.deg2rad(Paleolat[i])))**2 + 522.061*(np.cos(np.deg2rad(Paleolat[i])))**3 - 1152.15*(np.cos(np.deg2rad(Paleolat[i])))**4 + 1189.18*(np.cos(np.deg2rad(Paleolat[i])))**5 - 448.004*(np.cos(np.deg2rad(Paleolat[i])))**6)  #from Lifton (2014)\n",
    "    Rc.append(Rc_calc)\n",
    "    temp.append(means[i]/M0)\n",
    "from matplotlib.pyplot import figure\n",
    "\n",
    "plt.show()\n",
    "plt.style.use('seaborn-whitegrid')\n",
    "temp_Rc = pd.read_csv('temp_Rc', header = None)\n",
    "temp_tv = pd.read_csv('temp_tv', header = None)\n",
    "figure(figsize=(20, 4), dpi=80)\n",
    "\n",
    "plt.plot(temp_tv,temp_Rc, label = 'LSD')\n",
    "plt.plot(0, Rc[0], '*', markersize=15, label = 'this work')\n",
    "plt.plot(0.05e6, Rc[1], '*',markersize=15, label = 'this work')\n",
    "plt.plot(5e6, Rc[2], '*',markersize=15, label = 'this work')\n",
    "plt.xlabel('Time [Ma]', fontsize=20)\n",
    "plt.ylabel('Rc', fontsize=20)\n",
    "plt.title('LSD vs. This Work', fontsize=20)\n",
    "plt.legend()"
   ]
  },
  {
   "cell_type": "code",
   "execution_count": 93,
   "metadata": {},
   "outputs": [
    {
     "name": "stdout",
     "output_type": "stream",
     "text": [
      "[1.1638217850694057, 0.8323843119322654, 0.7800910865322053, 0.6080290372039174, 0.5195261079420797, 0.532741398446171, 0.6957547169811321, 0.46285662200346356, 0.5187829338772736, 0.6739703793872994, 1.0440251572327042, 0.5400943396226414, 0.9015650138949831, 0.7174303683737648]\n"
     ]
    }
   ],
   "source": [
    "print(temp)"
   ]
  },
  {
   "cell_type": "markdown",
   "metadata": {},
   "source": [
    "## Pressure Corrections\n",
    "- Cell 1: Reads in ERA40 reanalysis data (imports text files, retrieved from LSD code)\n",
    "    - then uses 2D interpolation to determine a site_pressure\n",
    "    - uses user input of site_lat, site_lon, and altitude\n",
    "    - converts altitdue to atmospheric depth (g/cm2)\n",
    "    - the ERA40 reanalysis will run if the user specifies at the beginning that stdatm = 0\n",
    "    - if not, it will run a standard atmospheric equation instead to assign a site_pressure for the p-rate code."
   ]
  },
  {
   "cell_type": "code",
   "execution_count": 12,
   "metadata": {},
   "outputs": [
    {
     "data": {
      "text/plain": [
       "1004.8976698251095"
      ]
     },
     "execution_count": 12,
     "metadata": {},
     "output_type": "execute_result"
    }
   ],
   "source": [
    "ERA40lat = pd.read_csv('ERA40lat', header=None)\n",
    "ERA40lon = pd.read_csv('ERA40lon', header=None)\n",
    "meanT = pd.read_csv('meanT', header=None)\n",
    "meanP = pd.read_csv('meanP', header=None) \n",
    "x = ERA40lat.to_numpy()\n",
    "y = ERA40lon.to_numpy()\n",
    "z = meanT.to_numpy()\n",
    "a = meanP.to_numpy()\n",
    "gmr = -0.03417; # Assorted constants\n",
    "dtdz = 0.0065; # Lapse rate from standard atmosphere\n",
    "altitude_updated = altitude * 1.019716\n",
    "\n",
    "t = sci.interpolate.interp2d(y,x,z)\n",
    "site_T = t(site_lat, site_lon)\n",
    "site_T_degK = site_T + 273.15\n",
    "p = sci.interpolate.interp2d(y,x,a)\n",
    "site_slp = p(site_lat, site_lon)\n",
    "\n",
    "#Lifton Lapse Rate Fit to COSPAR CIRA-86 <10 km altitude\n",
    "\n",
    "lr = [-6.1517E-03, -3.1831E-06, -1.5014E-07, 1.8097E-09, 1.1791E-10, -6.5359E-14, -9.5209E-15]\n",
    "\n",
    "dtdz = lr[0] + lr[1]*site_lat + lr[2]*site_lat**2 + lr[3]*site_lat**3 + lr[4]*site_lat**4 + lr[5]*site_lat**5 + lr[6]*site_lat**6;\n",
    "dtdz = -dtdz\n",
    "\n",
    "# Calculate site pressure using the site-specific SLP and T1000 with the\n",
    "# standard atmosphere equation.\n",
    "\n",
    "if stdatm == 0: #ERA40\n",
    "    sample_pressure = site_slp * np.exp( (gmr/dtdz) * (np.log(site_T) - np.log(site_T - (altitude_updated*dtdz)) ) )\n",
    "    sample_pressure = float(sample_pressure)\n",
    "else: #standard\n",
    "    sample_pressure = 1013.25 * np.exp((gmr/dtdz)*(np.log(288.15) - np.log(288.15 - (altitude_updated*dtdz))))\n",
    "#Nat's Code gives: 1.0047e03 for site_lat = 40, site_lon = 50, altitude = 100 (for ERA40)\n",
    "\n",
    "sample_pressure"
   ]
  },
  {
   "cell_type": "markdown",
   "metadata": {},
   "source": [
    "## Solar Modulation Parameter\n",
    "- need to add (as of 6/22) "
   ]
  },
  {
   "cell_type": "code",
   "execution_count": 90,
   "metadata": {},
   "outputs": [
    {
     "data": {
      "text/plain": [
       "array([[624.57175221],\n",
       "       [689.15780028],\n",
       "       [842.29421311],\n",
       "       ...,\n",
       "       [462.        ],\n",
       "       [462.        ],\n",
       "       [462.        ]])"
      ]
     },
     "execution_count": 90,
     "metadata": {},
     "output_type": "execute_result"
    }
   ],
   "source": [
    "SPhi = pd.read_csv('SPhi', header=None) #Same as above\n",
    "SPhiInf = 462.036146906888\n",
    "tv1 = np.linspace(0,50,10)\n",
    "tv2 = np.linspace(60,50060,100)\n",
    "tv3 = np.linspace(51060,2000060,1000)\n",
    "tv4 = np.linspace(10**6.30126011076, 10**7.84509804001, 200)\n",
    "import itertools\n",
    "tv = list(itertools.chain(tv1, tv2, tv3, tv4))\n",
    "age = 50000000\n",
    "clipindex = next(x for x, val in enumerate(tv) if val > age)\n",
    "tv2 = tv[:clipindex]\n",
    "#solar modulation parameter\n",
    "this_SPhi = np.zeros((len(tv),1)) + int(SPhiInf) #needs to be size of tv, solar modulation potential sato et al 2008\n",
    "elements = len(tv)\n",
    "A = SPhi.to_numpy()\n",
    "this_SPhi[:120] = A\n",
    "from scipy.interpolate import interp1d\n",
    "set_interp = interp1d(tv, this_SPhi, axis = 0)\n",
    "new_y = set_interp(tv2)\n",
    "#Nat: LSDSPhi = interp1(tv, this_SPhi, tv2)\n",
    "new_y"
   ]
  },
  {
   "cell_type": "markdown",
   "metadata": {},
   "source": [
    "## Production Rates Calculation\n",
    "- Cell 1: Imports necessary csv files: nuclear rxn cross sections specific for 3He, energy spectra data, etc. \n",
    "- Cell 2: Essentially LSD code (Neutrons.m) converted to Python\n",
    "    - Computes production rate of 3He in either qtz, cpx, or olivine \n",
    "    - will determine which scheme to use based on user input of system = 1, 2, or 3. \n",
    "    - \"p3n\" will return the production rate for each 5 Myr bin. "
   ]
  },
  {
   "cell_type": "code",
   "execution_count": 14,
   "metadata": {},
   "outputs": [],
   "source": [
    "Onx3HeT = pd.read_csv('Onx3HeT', header = None)\n",
    "Sinx3HeT = pd.read_csv('Sinx3HeT', header=None) #Same as above\n",
    "Fenx3HeT = pd.read_csv('Fenx3HeT', header=None)\n",
    "Canx3HeT = pd.read_csv('Canx3HeT', header=None)\n",
    "Mgnx3HeT = pd.read_csv('Mgnx3HeT', header=None)\n",
    "Alnx3HeT = pd.read_csv('Mgnx3HeT', header=None)\n",
    "a_values = pd.read_csv('a_values', header=None)\n",
    "b_values = pd.read_csv('b_values', header=None)\n",
    "basic_spectrum = pd.read_csv('basic_spectrum',header=None)\n",
    "c_values = pd.read_csv('c_values', header=None)\n",
    "ground_level_spectrum = pd.read_csv('ground_level_spectrum',header=None)\n",
    "thermal_neutron_spectrum = pd.read_csv('thermal_neutron_spectrum',header=None)\n",
    "a_values.columns = ['variable','values']\n",
    "#a_values.iloc[0]['values']\n",
    "b_values.columns = ['variable','values']\n",
    "basic_spectrum.columns = ['variable', 'values']\n",
    "c_values.columns = ['variable', 'values']\n",
    "ground_level_spectrum.columns = ['variable' , 'values']\n",
    "thermal_neutron_spectrum.columns = ['variable' , 'values']\n",
    "df = np.logspace(0,5.3010,200)\n",
    "E = pd.DataFrame(df)\n",
    "E.columns = ['Energy']\n",
    "#Energy spectrum [MeV]. From Sato & \n",
    "(2006 or 2008, one has neutrons one has protons)\n"
   ]
  },
  {
   "cell_type": "code",
   "execution_count": 15,
   "metadata": {},
   "outputs": [
    {
     "data": {
      "text/plain": [
       "[64.31983489143511,\n",
       " 68.14260217413107,\n",
       " 68.92125816323947,\n",
       " 71.26078371076548,\n",
       " 72.36213945418412,\n",
       " 71.59589290399724,\n",
       " 66.83876072710505,\n",
       " 71.77879496216745,\n",
       " 71.2235554256788,\n",
       " 68.3718309010378,\n",
       " 58.75120230813194,\n",
       " 67.85317061228952,\n",
       " 55.894075538940214]"
      ]
     },
     "execution_count": 15,
     "metadata": {},
     "output_type": "execute_result"
    }
   ],
   "source": [
    "#Energy spectrum [MeV]. From Sato & Nita (2006 or 2008, one has neutrons one has protons)\n",
    "PhiL_list = []\n",
    "hold = []\n",
    "p3n = []\n",
    "s = 1700; #solar modulation- need to fix this\n",
    "x = sample_pressure; #standard pressure\n",
    "Et = 2.5e-8; #thermal neutron energy in MeV\n",
    "\n",
    "##Integrated neutron flux <15 MeV\n",
    "\n",
    "smin = 400; #units of MV\n",
    "smax = 1200; #units of MV\n",
    "\n",
    "# Ground-Level Spectrum\n",
    "g3 = 10**(ground_level_spectrum.iloc[0]['values'] + ground_level_spectrum.iloc[1]['values']/(w + ground_level_spectrum.iloc[2]['values']))\n",
    "g5 = ground_level_spectrum.iloc[3]['values'] + (ground_level_spectrum.iloc[4]['values']*w) + ground_level_spectrum.iloc[5]['values']*(w**2);\n",
    "fG = 10**(ground_level_spectrum.iloc[6]['values'] + ground_level_spectrum.iloc[7]['values']*np.log10(E/g3)*(1-np.tanh(ground_level_spectrum.iloc[8]['values']*np.log10(E/g5))))\n",
    "\n",
    "#Thermal Neutron Spectrum\n",
    "g6 = (thermal_neutron_spectrum.iloc[0]['values'] + thermal_neutron_spectrum.iloc[1]['values']*np.exp(-thermal_neutron_spectrum.iloc[2]['values']*w))/(1 + thermal_neutron_spectrum.iloc[3]['values']*np.exp(-thermal_neutron_spectrum.iloc[4]['values']*w))\n",
    "\n",
    "PhiT = g6*((E/Et)**2)*np.exp(-E/Et)\n",
    "\n",
    "# Total Ground-Level Flux\n",
    "\n",
    "PhiB = np.zeros((1,len(E)))\n",
    "PhiG = np.zeros((1,len(E)))\n",
    "PhiGMev = np.zeros((1,len(E)))\n",
    "p3n_temp = np.zeros((1,len(E)))\n",
    "\n",
    "\n",
    "for a in range(len(Rc)):\n",
    "    a1min = b_values.iloc[0]['values'] + b_values.iloc[2]['values']*Rc[a] + b_values.iloc[4]['values']/(1 + np.exp((Rc[a] - b_values.iloc[6]['values'])/b_values.iloc[8]['values']))\n",
    "    a1max = b_values.iloc[1]['values'] + b_values.iloc[3]['values']*Rc[a] + b_values.iloc[5]['values']/(1 + np.exp((Rc[a] - b_values.iloc[7]['values'])/b_values.iloc[9]['values']))\n",
    "    a2min = b_values.iloc[10]['values'] + b_values.iloc[12]['values']*Rc[a] + b_values.iloc[14]['values']/(1 + np.exp((Rc[a] - b_values.iloc[16]['values'])/b_values.iloc[18]['values']))\n",
    "    a2max = b_values.iloc[11]['values'] + b_values.iloc[13]['values']*Rc[a] + b_values.iloc[15]['values']/(1 + np.exp((Rc[a] - b_values.iloc[17]['values'])/b_values.iloc[19]['values']))\n",
    "    a3min = b_values.iloc[20]['values'] + b_values.iloc[22]['values']*Rc[a] + b_values.iloc[24]['values']/(1 + np.exp((Rc[a] - b_values.iloc[26]['values'])/b_values.iloc[28]['values']))\n",
    "    a3max = b_values.iloc[21]['values'] + b_values.iloc[23]['values']*Rc[a] + b_values.iloc[25]['values']/(1 + np.exp((Rc[a] - b_values.iloc[27]['values'])/b_values.iloc[29]['values']))\n",
    "    a4min = b_values.iloc[30]['values'] + b_values.iloc[32]['values']*Rc[a] + b_values.iloc[34]['values']/(1 + np.exp((Rc[a] - b_values.iloc[36]['values'])/b_values.iloc[38]['values']))\n",
    "    a4max = b_values.iloc[31]['values'] + b_values.iloc[33]['values']*Rc[a] + b_values.iloc[35]['values']/(1 + np.exp((Rc[a] - b_values.iloc[37]['values'])/b_values.iloc[39]['values']))\n",
    "\n",
    "    a5 = basic_spectrum.iloc[0]['values'] + basic_spectrum.iloc[1]['values']*Rc[a] + basic_spectrum.iloc[2]['values']/(1 + np.exp((Rc[a] - basic_spectrum.iloc[3]['values'])/basic_spectrum.iloc[4]['values']))\n",
    "    a9 = basic_spectrum.iloc[5]['values'] + basic_spectrum.iloc[6]['values']*Rc[a] + basic_spectrum.iloc[7]['values']/(1 + np.exp((Rc[a] - basic_spectrum.iloc[8]['values'])/basic_spectrum.iloc[9]['values']));\n",
    "    a10 = basic_spectrum.iloc[10]['values'] + basic_spectrum.iloc[11]['values']*Rc[a] + basic_spectrum.iloc[12]['values']/(1 + np.exp((Rc[a] - basic_spectrum.iloc[13]['values'])/basic_spectrum.iloc[14]['values']));\n",
    "    a11 = basic_spectrum.iloc[15]['values'] + basic_spectrum.iloc[16]['values']*Rc[a] + basic_spectrum.iloc[17]['values']/(1 + np.exp((Rc[a] - basic_spectrum.iloc[18]['values'])/basic_spectrum.iloc[19]['values']));\n",
    "\n",
    "    b5 = b_values.iloc[40]['values'] + b_values.iloc[41]['values']*Rc[a] + b_values.iloc[42]['values']/(1 + np.exp((Rc[a] - b_values.iloc[43]['values'])/b_values.iloc[44]['values']))\n",
    "    b6 = b_values.iloc[45]['values'] + b_values.iloc[46]['values']*Rc[a] + b_values.iloc[47]['values']/(1 + np.exp((Rc[a] - b_values.iloc[48]['values'])/b_values.iloc[49]['values']))\n",
    "    c4 = a5 + a_values.iloc[0]['values']*x/(1 + a_values.iloc[1]['values']*np.exp(a_values.iloc[2]['values']*x)) #lethargy^-1\n",
    "    c12 = a9*(np.exp(-a10*x) + a11*np.exp(-a_values.iloc[3]['values']*x)) # MeV\n",
    "\n",
    "    PhiLmin = a1min*(np.exp(-a2min*x) - a3min*np.exp(-a4min*x)) #length of Rc\n",
    "    PhiLmax = a1max*(np.exp(-a2max*x) - a3max*np.exp(-a4max*x)) #length of Rc\n",
    "\n",
    "    f3 = b5 + (b6*x)\n",
    "    f2 = (PhiLmin - PhiLmax)/(smin**f3 - smax**f3)\n",
    "    f1 = PhiLmin - f2*smin**f3\n",
    "\n",
    "    \n",
    "    PhiL = f1 + (f2*s**f3)\n",
    "    PhiL_list.append(PhiL)\n",
    "    #f1: len Rc\n",
    "    #f2: len Rc\n",
    "    #f3: len Rc\n",
    "    PhiB = (c_values.iloc[0]['values']*(E/c_values.iloc[1]['values'])**c_values.iloc[2]['values'])*np.exp(-E/c_values.iloc[1]['values']) + c4*np.exp((-(np.log10(E) - np.log10(c_values.iloc[3]['values']))**2)/(2*(np.log10(c_values.iloc[4]['values']))**2)) + c_values.iloc[5]['values']*np.log10(E/c_values.iloc[6]['values'])*(1 + np.tanh(c_values.iloc[7]['values']*np.log10(E/c_values.iloc[8]['values'])))*(1 - np.tanh(c_values.iloc[9]['values']*np.log10(E/c12)))\n",
    "\n",
    "for i in range(0,13):\n",
    "    PhiG = PhiL_list[i]*(PhiB*fG + PhiT)\n",
    "    df2 = PhiG/E\n",
    "    PhiGMev = pd.DataFrame(df2)\n",
    "    a = PhiGMev.to_numpy()\n",
    "    b = E.to_numpy()\n",
    "    c = Onx3HeT.to_numpy()\n",
    "    d = Sinx3HeT.to_numpy()\n",
    "    e = Fenx3HeT.to_numpy()\n",
    "    f = Canx3HeT.to_numpy()\n",
    "    g = Mgnx3HeT.to_numpy()\n",
    "    h = Alnx3HeT.to_numpy()\n",
    "    PhiGMev_array = np.reshape(a, 200)\n",
    "    E_array = np.reshape(b, 200)\n",
    "    Onx3HeT_array = np.reshape(c,200)\n",
    "    Sinx3HeT_array = np.reshape(d,200)\n",
    "    Fenx3HeT_array = np.reshape(e,200)\n",
    "    Canx3HeT_array = np.reshape(f,200)\n",
    "    Mgnx3HeT_array = np.reshape(g,200)\n",
    "    Alnx3HeT_array = np.reshape(h,200)\n",
    "\n",
    "    #Quartz\n",
    "    if system == 1: #qtz\n",
    "        p3n_temp_qtz = (np.trapz(PhiGMev_array*Onx3HeT_array,E_array) + np.trapz(PhiGMev_array*(Sinx3HeT_array/2), E_array))*(2.00600000000000e22*1e-27*3.1536e7)\n",
    "        p3n.append(p3n_temp_qtz)\n",
    "    #Inserted from Dave Parmelee's code (MS thesis, NMT 2014) to account for composition\n",
    "    #dependence of clinopyroxene\n",
    "    if system == 2: #cpx\n",
    "        p3n_temp_cpx = (np.trapz(PhiGMev_array*Onx3HeT_array, E_array) +\n",
    "        np.trapz(PhiGMev_array*(Sinx3HeT_array*1.92/6),E_array) +\n",
    "        np.trapz(PhiGMev_array*(Alnx3HeT_array*0.12/6),E_array) +\n",
    "        np.trapz(PhiGMev_array*(Mgnx3HeT_array*0.67/6), E_array) +\n",
    "        np.trapz(PhiGMev_array*(Fenx3HeT_array*0.31/6), E_array) +\n",
    "        np.trapz(PhiGMev_array*(Canx3HeT_array*0.86/6), E_array))*(2.00600000000000e22*1e-27*3.1536e7)\n",
    "        p3n.append(p3n_temp_cpx)\n",
    "    if system == 3: #olivine\n",
    "        p3n_temp_ol = (np.trapz(PhiGMev_array*OnxHe3T_array, E_array) +\n",
    "        np.trapz(PhiGMev_array*(Sinx3HeT_array*1/4), E_array) + \n",
    "        np.trapz(PhiGMev_array*(Mgnx3HeT_array*1.1/4), E_array) +\n",
    "        np.trapz(PhiGMev_array*(Fenx3HeT_array*0.9/4), E_array))*(2.00600000000000e22*1e-27*3.1536e7)\n",
    "        p3n.append(p3n_temp_ol)\n",
    "\n",
    "p3n"
   ]
  },
  {
   "cell_type": "markdown",
   "metadata": {},
   "source": [
    "## Scaling Factor\n",
    "- Calculated based on LSD code\n",
    "- Cell 1: uses reference values for 3He neutron/proton production, and uses p3n from p-rate calculation above to assign a scaling factor for each 5 Myr bin. "
   ]
  },
  {
   "cell_type": "code",
   "execution_count": 16,
   "metadata": {},
   "outputs": [
    {
     "data": {
      "text/plain": [
       "[0.6194558452765899,\n",
       " 0.6562724127070739,\n",
       " 0.6637715458240505,\n",
       " 0.6863032077606063,\n",
       " 0.6969102196433508,\n",
       " 0.6895306001956726,\n",
       " 0.6437152877231959,\n",
       " 0.6912921057909202,\n",
       " 0.6859446670577967,\n",
       " 0.6584800843378759,\n",
       " 0.5658250794366706,\n",
       " 0.6534849355144956,\n",
       " 0.538308468412103]"
      ]
     },
     "execution_count": 16,
     "metadata": {},
     "output_type": "execute_result"
    }
   ],
   "source": [
    "SiteHe = []\n",
    "#Nuclide Specific Scaling Factors\n",
    "p3nref = 90.1971\n",
    "p3pref = 13.6357\n",
    "HeRef = p3nref + p3pref #reference production rate\n",
    "#Nuclide specific scaling factors as f(Rc)\n",
    "\n",
    "for i in range(len(p3n)):\n",
    "    SiteHe_temp = p3n[i]/HeRef #scaling factor\n",
    "    SiteHe.append(SiteHe_temp)\n",
    "SiteHe"
   ]
  },
  {
   "cell_type": "code",
   "execution_count": 84,
   "metadata": {},
   "outputs": [
    {
     "data": {
      "text/plain": [
       "Text(0, 0.5, 'Scaling Factor')"
      ]
     },
     "execution_count": 84,
     "metadata": {},
     "output_type": "execute_result"
    },
    {
     "data": {
      "image/png": "[encoded data removed]",
      "text/plain": [
       "<Figure size 432x288 with 1 Axes>"
      ]
     },
     "metadata": {},
     "output_type": "display_data"
    }
   ],
   "source": [
    "time = [5,10,15,20,25,30,35,40,45,50,55,60,65]\n",
    "plt.plot(time,SiteHe, '*-')\n",
    "plt.xlabel('Time [Ma]')\n",
    "plt.ylabel('Scaling Factor')"
   ]
  },
  {
   "cell_type": "code",
   "execution_count": null,
   "metadata": {},
   "outputs": [],
   "source": []
  }
 ],
 "metadata": {
  "colab": {
   "collapsed_sections": [],
   "name": "ProdRateCalc.ipynb",
   "provenance": []
  },
  "kernelspec": {
   "display_name": "Python 3",
   "language": "python",
   "name": "python3"
  },
  "language_info": {
   "codemirror_mode": {
    "name": "ipython",
    "version": 3
   },
   "file_extension": ".py",
   "mimetype": "text/x-python",
   "name": "python",
   "nbconvert_exporter": "python",
   "pygments_lexer": "ipython3",
   "version": "3.8.3"
  }
 },
 "nbformat": 4,
 "nbformat_minor": 1
}