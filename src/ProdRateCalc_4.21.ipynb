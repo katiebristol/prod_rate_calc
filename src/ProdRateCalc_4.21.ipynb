{
 "cells": [
  {
   "cell_type": "code",
   "execution_count": 6,
   "metadata": {
    "id": "AP2bFs2Ckf44"
   },
   "outputs": [],
   "source": [
    "import numpy as np\n",
    "import matplotlib.pyplot as plt\n",
    "import pmagpy.pmag as pmag\n",
    "import pandas as pd"
   ]
  },
  {
   "cell_type": "code",
   "execution_count": 7,
   "metadata": {},
   "outputs": [],
   "source": [
    "x = np.linspace(0,70,14) #will report paleolatitude values from 0-70 Million years ago, in 5 Myr increments \n",
    "vals = [] #storage for pmagpy data \n",
    "for i in x:\n",
    "    data=['NA',33,-117,i] # North American plate, lat and lon of San Diego at 100 Ma (user inputs lat and long of site of interest)\n",
    "    pmag.apwp(data, print_results = False) #change to true if you want to see the output\n",
    "    vals.append(pmag.apwp(data))"
   ]
  },
  {
   "cell_type": "code",
   "execution_count": 8,
   "metadata": {},
   "outputs": [],
   "source": [
    "df = pd.DataFrame(vals) #create a dataframe with the pmagpy data\n",
    "df.columns = ['Age', 'Paleolat', 'Dec','Inc','Pole_lat','Pole_Long'] #rename the columns\n",
    "Paleolat = df['Paleolat'] #call paleolat whenever you want all the paleolatitudes for some time frame"
   ]
  },
  {
   "cell_type": "markdown",
   "metadata": {},
   "source": [
    "## Begin pulling in paleomag data"
   ]
  },
  {
   "cell_type": "code",
   "execution_count": 9,
   "metadata": {},
   "outputs": [],
   "source": [
    "IAGA_database = pd.read_excel('IAGA_database.xlsx') #excel sheet with all pmag data. 0-70 Ma, all criteria"
   ]
  },
  {
   "cell_type": "code",
   "execution_count": 10,
   "metadata": {},
   "outputs": [],
   "source": [
    "#picking appropriate ages\n",
    "age_range = np.arange(0,70) #user inputs length of time\n",
    "\n",
    "#The following lines go through the excel sheet, and drop any ages that are not within the specified age range\n",
    "IAGA_database.drop(IAGA_database[IAGA_database['AGE'] < age_range[0]].index, inplace = True) #age\n",
    "IAGA_database.drop(IAGA_database[IAGA_database['AGE'] > age_range[-1]].index, inplace = True) #age\n",
    "\n",
    "#Criteria evaluation\n",
    "pd.set_option(\"display.max_rows\", None, \"display.max_columns\", None) # run this line if you want to see all the rows\n",
    "\n",
    "#here, the user will input what sort of criteria they want on the paleomag data used to calculate Rc\n",
    "#True = therm parameters, will only save the green bois\n",
    "HeZ = IAGA_database[IAGA_database['IntM'] == '   HeZ       ' ].index\n",
    "LTD_DHT_S = IAGA_database[IAGA_database['IntM'] == '   LTD-DHT-S ' ].index\n",
    "M = IAGA_database[IAGA_database['IntM'] == '   M         ' ].index\n",
    "MSPDp = IAGA_database[IAGA_database['IntM'] == '   MSPDp     ' ].index\n",
    "ONR = IAGA_database[IAGA_database['IntM'] == '   ONR       ' ].index\n",
    "S = IAGA_database[IAGA_database['IntM'] == '   S         ' ].index\n",
    "ST = IAGA_database[IAGA_database['IntM'] == '   ST        ' ].index\n",
    "SW = IAGA_database[IAGA_database['IntM'] == '   SW        ' ].index\n",
    "TZ = IAGA_database[IAGA_database['IntM'] == '   TZ        ' ].index\n",
    "Tminus = IAGA_database[IAGA_database['IntM'] == '   T-        ' ].index\n",
    "W = IAGA_database[IAGA_database['IntM'] == '   W         ' ].index\n",
    "WB = IAGA_database[IAGA_database['IntM'] == '   WB        ' ].index\n",
    "WZ = IAGA_database[IAGA_database['IntM'] == '   WZ        ' ].index\n",
    "Z = IAGA_database[IAGA_database['IntM'] == '   Z         ' ].index\n",
    "Tv = IAGA_database[IAGA_database['IntM'] == '   Tv        ' ].index\n",
    "\n",
    "therm = False\n",
    "if therm == True: \n",
    "    #the following lines index string values (criteria from excel sheet). Spaces are indicative of how the names are stored in the excel sheet.\n",
    "    #Delete these row indexes from dataFrame\n",
    "    IAGA_database.drop(HeZ, inplace=True)\n",
    "    IAGA_database.drop(LTD_DHT_S, inplace=True)\n",
    "    IAGA_database.drop(M, inplace=True)\n",
    "    IAGA_database.drop(MSPDp, inplace=True)\n",
    "    IAGA_database.drop(ONR, inplace=True)\n",
    "    IAGA_database.drop(S, inplace=True)\n",
    "    IAGA_database.drop(ST, inplace=True)\n",
    "    IAGA_database.drop(SW, inplace=True)\n",
    "    IAGA_database.drop(TZ, inplace=True)\n",
    "    IAGA_database.drop(Tv, inplace=True)\n",
    "    IAGA_database.drop(Tminus, inplace=True)\n",
    "    IAGA_database.drop(W, inplace=True)\n",
    "    IAGA_database.drop(WB, inplace=True)\n",
    "    IAGA_database.drop(WZ, inplace=True)\n",
    "    IAGA_database.drop(Z, inplace=True)\n",
    "#IAGA_database #slight problem with this: if you change True to False, you have to re-run the code from the beginning (probably something to do with the order these are written in, not refreshing things)\\\n"
   ]
  },
  {
   "cell_type": "code",
   "execution_count": 11,
   "metadata": {},
   "outputs": [
    {
     "data": {
      "text/plain": [
       "2829"
      ]
     },
     "execution_count": 11,
     "metadata": {},
     "output_type": "execute_result"
    }
   ],
   "source": [
    "index = IAGA_database.index\n",
    "number_of_rows = len(index)\n",
    "number_of_rows"
   ]
  },
  {
   "cell_type": "code",
   "execution_count": 12,
   "metadata": {},
   "outputs": [],
   "source": [
    "bin_1 = IAGA_database[IAGA_database['AGE'] <= 0.05]\n",
    "bin_2 = IAGA_database[(IAGA_database['AGE'] <= 5) & (IAGA_database['AGE'] > 0.05)]\n",
    "bin_3 = IAGA_database[(IAGA_database['AGE'] <= 10) & (IAGA_database['AGE'] > 5)]\n",
    "bin_4 = IAGA_database[(IAGA_database['AGE'] <= 15) & (IAGA_database['AGE'] > 10)]\n",
    "bin_5 = IAGA_database[(IAGA_database['AGE'] <= 20) & (IAGA_database['AGE'] > 15)]\n",
    "bin_6 = IAGA_database[(IAGA_database['AGE'] <= 25) & (IAGA_database['AGE'] > 20)]\n",
    "bin_7 = IAGA_database[(IAGA_database['AGE'] <= 30) & (IAGA_database['AGE'] > 25)]\n",
    "bin_8 = IAGA_database[(IAGA_database['AGE'] <= 35) & (IAGA_database['AGE'] > 30)]\n",
    "bin_9 = IAGA_database[(IAGA_database['AGE'] <= 40) & (IAGA_database['AGE'] > 35)]\n",
    "bin_10 = IAGA_database[(IAGA_database['AGE'] <= 45) & (IAGA_database['AGE'] > 40)]\n",
    "bin_11 = IAGA_database[(IAGA_database['AGE'] <= 50) & (IAGA_database['AGE'] > 45)]\n",
    "bin_12 = IAGA_database[(IAGA_database['AGE'] <= 55) & (IAGA_database['AGE'] > 50)]\n",
    "bin_13 = IAGA_database[(IAGA_database['AGE'] <= 60) & (IAGA_database['AGE'] > 55)]\n",
    "bin_14 = IAGA_database[(IAGA_database['AGE'] <= 65) & (IAGA_database['AGE'] > 60)]\n",
    "bin_15 = IAGA_database[(IAGA_database['AGE'] <= 70) & (IAGA_database['AGE'] > 65)]\n",
    "\n"
   ]
  },
  {
   "cell_type": "code",
   "execution_count": 13,
   "metadata": {},
   "outputs": [
    {
     "name": "stdout",
     "output_type": "stream",
     "text": [
      "The number of data points from present to 0.05 Ma is 11\n",
      "The number of data points from 0.05 to 5 Ma is 1722\n",
      "The number of data points from 5 to 10 Ma is 174\n",
      "The number of data points from 10 to 15 Ma is 201\n",
      "The number of data points from 15 to 20 Ma is 86\n",
      "The number of data points from 20 to 25 Ma is 17\n",
      "The number of data points from 25 to 30 Ma is 48\n",
      "The number of data points from 30 to 35 Ma is 69\n",
      "The number of data points from 35 to 40 Ma is 37\n",
      "The number of data points from 40 to 45 Ma is 31\n",
      "The number of data points from 45 to 50 Ma is 22\n",
      "The number of data points from 50 to 55 Ma is 16\n",
      "The number of data points from 55 to 60 Ma is 43\n",
      "The number of data points from 60 to 65 Ma is 112\n",
      "The number of data points from 65 to 70 Ma is 55\n"
     ]
    },
    {
     "data": {
      "text/plain": [
       "[5.654545454545455,\n",
       " 6.613356562137046,\n",
       " 6.201724137931032,\n",
       " 4.833830845771144,\n",
       " 4.130232558139533,\n",
       " 4.235294117647059,\n",
       " 5.53125,\n",
       " 3.6797101449275353,\n",
       " 4.124324324324325,\n",
       " 5.358064516129031,\n",
       " 8.299999999999999,\n",
       " 4.293749999999999,\n",
       " 7.167441860465116,\n",
       " 5.703571428571431,\n",
       " 4.281818181818181]"
      ]
     },
     "execution_count": 13,
     "metadata": {},
     "output_type": "execute_result"
    }
   ],
   "source": [
    "means = []\n",
    "median = []\n",
    "bin_1 = bin_1[pd.to_numeric(bin_1['VDM'], errors='coerce').notnull()] #dropping the &nbsp vals  \n",
    "bin_1['VDM'] = bin_1['VDM'].astype(float)\n",
    "means.append((bin_1[\"VDM\"].mean()))#calculates mean\n",
    "median.append(bin_1['VDM'].median())\n",
    "index_1 = bin_1.index\n",
    "n_1 = len(index_1)\n",
    "print('The number of data points from present to 0.05 Ma is', n_1)\n",
    "\n",
    "bin_2 = bin_2[pd.to_numeric(bin_2['VDM'], errors='coerce').notnull()] #dropping the &nbsp vals  \n",
    "bin_2['VDM'] = bin_2['VDM'].astype(float)\n",
    "means.append((bin_2[\"VDM\"].mean()))#calculates mean\n",
    "median.append(bin_2['VDM'].median())\n",
    "index_2 = bin_2.index\n",
    "n_2 = len(index_2)\n",
    "print('The number of data points from 0.05 to 5 Ma is', n_2)\n",
    "\n",
    "bin_3 = bin_3[pd.to_numeric(bin_3['VDM'], errors='coerce').notnull()] #dropping the &nbsp vals  \n",
    "bin_3['VDM'] = bin_3['VDM'].astype(float)\n",
    "means.append((bin_3[\"VDM\"].mean()))#calculates mean\n",
    "median.append(bin_3['VDM'].median())\n",
    "index_3 = bin_3.index\n",
    "n_3 = len(index_3)\n",
    "print('The number of data points from 5 to 10 Ma is', n_3)\n",
    "\n",
    "bin_4 = bin_4[pd.to_numeric(bin_4['VDM'], errors='coerce').notnull()] #dropping the &nbsp vals  \n",
    "bin_4['VDM'] = bin_4['VDM'].astype(float)\n",
    "means.append((bin_4[\"VDM\"].mean()))#calculates mean\n",
    "median.append(bin_4['VDM'].median())\n",
    "index_4 = bin_4.index\n",
    "n_4 = len(index_4)\n",
    "print('The number of data points from 10 to 15 Ma is', n_4)\n",
    "\n",
    "bin_5 = bin_5[pd.to_numeric(bin_5['VDM'], errors='coerce').notnull()] #dropping the &nbsp vals  \n",
    "bin_5['VDM'] = bin_5['VDM'].astype(float)\n",
    "means.append((bin_5[\"VDM\"].mean()))#calculates mean\n",
    "median.append(bin_5['VDM'].median())\n",
    "index_5 = bin_5.index\n",
    "n_5 = len(index_5)\n",
    "print('The number of data points from 15 to 20 Ma is', n_5)\n",
    "\n",
    "bin_6 = bin_6[pd.to_numeric(bin_6['VDM'], errors='coerce').notnull()] #dropping the &nbsp vals  \n",
    "bin_6['VDM'] = bin_6['VDM'].astype(float)\n",
    "means.append((bin_6[\"VDM\"].mean()))#calculates mean\n",
    "median.append(bin_6['VDM'].median())\n",
    "index_6 = bin_6.index\n",
    "n_6 = len(index_6)\n",
    "print('The number of data points from 20 to 25 Ma is', n_6)\n",
    "\n",
    "bin_7 = bin_7[pd.to_numeric(bin_7['VDM'], errors='coerce').notnull()] #dropping the &nbsp vals  \n",
    "bin_7['VDM'] = bin_7['VDM'].astype(float)\n",
    "means.append((bin_7[\"VDM\"].mean()))#calculates mean\n",
    "median.append(bin_7['VDM'].median())\n",
    "index_7 = bin_7.index\n",
    "n_7 = len(index_7)\n",
    "print('The number of data points from 25 to 30 Ma is', n_7)\n",
    "\n",
    "bin_8 = bin_8[pd.to_numeric(bin_8['VDM'], errors='coerce').notnull()] #dropping the &nbsp vals  \n",
    "bin_8['VDM'] = bin_8['VDM'].astype(float)\n",
    "means.append((bin_8[\"VDM\"].mean()))#calculates mean\n",
    "median.append(bin_8['VDM'].median())\n",
    "index_8 = bin_8.index\n",
    "n_8 = len(index_8)\n",
    "print('The number of data points from 30 to 35 Ma is', n_8)\n",
    "\n",
    "bin_9 = bin_9[pd.to_numeric(bin_9['VDM'], errors='coerce').notnull()] #dropping the &nbsp vals  \n",
    "bin_9['VDM'] = bin_9['VDM'].astype(float)\n",
    "means.append((bin_9[\"VDM\"].mean()))#calculates mean\n",
    "median.append(bin_9['VDM'].median())\n",
    "index_9 = bin_9.index\n",
    "n_9 = len(index_9)\n",
    "print('The number of data points from 35 to 40 Ma is', n_9)\n",
    "\n",
    "bin_10 = bin_10[pd.to_numeric(bin_10['VDM'], errors='coerce').notnull()] #dropping the &nbsp vals  \n",
    "bin_10['VDM'] = bin_10['VDM'].astype(float)\n",
    "means.append((bin_10[\"VDM\"].mean()))#calculates mean\n",
    "median.append(bin_10['VDM'].median())\n",
    "index_10 = bin_10.index\n",
    "n_10 = len(index_10)\n",
    "print('The number of data points from 40 to 45 Ma is', n_10)\n",
    "\n",
    "bin_11 = bin_11[pd.to_numeric(bin_11['VDM'], errors='coerce').notnull()] #dropping the &nbsp vals  \n",
    "bin_11['VDM'] = bin_11['VDM'].astype(float)\n",
    "means.append((bin_11[\"VDM\"].mean()))#calculates mean\n",
    "median.append(bin_11['VDM'].median())\n",
    "index_11 = bin_11.index\n",
    "n_11 = len(index_11)\n",
    "print('The number of data points from 45 to 50 Ma is', n_11)\n",
    "\n",
    "bin_12 = bin_12[pd.to_numeric(bin_12['VDM'], errors='coerce').notnull()] #dropping the &nbsp vals  \n",
    "bin_12['VDM'] = bin_12['VDM'].astype(float)\n",
    "means.append((bin_12[\"VDM\"].mean()))#calculates mean\n",
    "median.append(bin_12['VDM'].median())\n",
    "index_12 = bin_12.index\n",
    "n_12 = len(index_12)\n",
    "print('The number of data points from 50 to 55 Ma is', n_12)\n",
    "\n",
    "bin_13 = bin_13[pd.to_numeric(bin_13['VDM'], errors='coerce').notnull()] #dropping the &nbsp vals  \n",
    "bin_13['VDM'] = bin_13['VDM'].astype(float)\n",
    "means.append((bin_13[\"VDM\"].mean()))#calculates mean\n",
    "median.append(bin_13['VDM'].median())\n",
    "index_13 = bin_13.index\n",
    "n_13 = len(index_13)\n",
    "print('The number of data points from 55 to 60 Ma is', n_13)\n",
    "\n",
    "bin_14 = bin_14[pd.to_numeric(bin_14['VDM'], errors='coerce').notnull()] #dropping the &nbsp vals  \n",
    "bin_14['VDM'] = bin_14['VDM'].astype(float)\n",
    "means.append((bin_14[\"VDM\"].mean()))#calculates mean\n",
    "median.append(bin_14['VDM'].median())\n",
    "index_14 = bin_14.index\n",
    "n_14 = len(index_14)\n",
    "print('The number of data points from 60 to 65 Ma is', n_14)\n",
    "\n",
    "bin_15 = bin_15[pd.to_numeric(bin_15['VDM'], errors='coerce').notnull()] #dropping the &nbsp vals  \n",
    "bin_15['VDM'] = bin_15['VDM'].astype(float)\n",
    "means.append((bin_15[\"VDM\"].mean()))#calculates mean\n",
    "median.append(bin_15['VDM'].median())\n",
    "index_15 = bin_15.index\n",
    "n_15 = len(index_15)\n",
    "print('The number of data points from 65 to 70 Ma is', n_15)\n",
    "\n",
    "means\n"
   ]
  },
  {
   "cell_type": "markdown",
   "metadata": {
    "id": "it-nF0TR4fIt"
   },
   "source": [
    "## Calculate Rc"
   ]
  },
  {
   "cell_type": "code",
   "execution_count": 25,
   "metadata": {
    "id": "XUlBkvh3vxAl"
   },
   "outputs": [
    {
     "data": {
      "text/plain": [
       "[<matplotlib.lines.Line2D at 0x7fcc912c92e0>]"
      ]
     },
     "execution_count": 25,
     "metadata": {},
     "output_type": "execute_result"
    },
    {
     "data": {
      "image/png": "[encoded data removed]",
      "text/plain": [
       "<Figure size 432x288 with 1 Axes>"
      ]
     },
     "metadata": {
      "needs_background": "light"
     },
     "output_type": "display_data"
    }
   ],
   "source": [
    "# Fixed values\n",
    "#problem: we haven't imported more data from present - 0.05 Ma, so the magnetic moment for that interval is jank\n",
    "#this means the Rc is jank too \n",
    "M0 = 7.95 #[*10^22 Am^2], per Katie. constant, magnetic moment today for reference field.\n",
    "Rc = []\n",
    "temp = []\n",
    "theta = 20 #user input, but then our code has to translate this into paleolatitudes over some timescale. at each time step (e.g., 5 myr, this will have to update based on some paleolatitude record - gplates?) \n",
    "for i in range(len(Paleolat)):\n",
    "    Rc_calc = (means[i]/M0)*((6.89901*np.cos(theta)) - (103.241*np.cos(theta)**2) + (522.061*np.cos(theta)**3) - (1152.15*np.cos(theta)**4) + (1189.18*np.cos(theta)**5) - (448.004*np.cos(theta)**6))  #balco 2007, lifton scheme, [unitless]\n",
    "    Rc.append(Rc_calc)\n",
    "    temp.append(means[i]/M0)\n",
    "plt.step(x,Rc)\n",
    "plt.xlabel('Time [Ma]')\n",
    "plt.ylabel('Rc')\n",
    "plt.plot(x,temp)"
   ]
  },
  {
   "cell_type": "raw",
   "metadata": {},
   "source": []
  },
  {
   "cell_type": "markdown",
   "metadata": {
    "id": "5TFeOqpo5ARS"
   },
   "source": [
    "Production rate"
   ]
  },
  {
   "cell_type": "code",
   "execution_count": 23,
   "metadata": {
    "id": "RzFNV3DR1A5U"
   },
   "outputs": [
    {
     "data": {
      "text/plain": [
       "[94.9021617799678,\n",
       " 231.76899506677708,\n",
       " 75.0408145108086,\n",
       " 12.06754777569762,\n",
       " 13.211277689814978,\n",
       " 86.50407971961985,\n",
       " 178.22647269354047,\n",
       " 5.545005001036004,\n",
       " 129.58303771605114,\n",
       " 28.533067377064402,\n",
       " 295.06754812077963,\n",
       " 83.29803370262228,\n",
       " 1.1452845248603478,\n",
       " 0.9630456674052363]"
      ]
     },
     "execution_count": 23,
     "metadata": {},
     "output_type": "execute_result"
    }
   ],
   "source": [
    "# Fixed values\n",
    "P0 = 103 #at/g/yr, 3He in zircon, Amidon & Farley (2011) 133 in apatite #constant production rate for a specific nuclide [at/g/yr]\n",
    "lam = 170 #g/cm^2, yokoyama et al #attenuation coeffcient, constant [m]\n",
    "\n",
    "# User inputs\n",
    "Z = 241.3 #user input, subsurface depth of sample, constant [m]\n",
    "P_list = []\n",
    "for i in range(len(Rc)):\n",
    "    P = Rc[i]*P0*np.e**(-Z/lam) # yokoyama et al 1977. [at/g/yr]\n",
    "    P_list.append(P)\n",
    "P_list"
   ]
  },
  {
   "cell_type": "code",
   "execution_count": 3,
   "metadata": {
    "id": "1-2ssX5F0Z-9"
   },
   "outputs": [
    {
     "ename": "NameError",
     "evalue": "name 'rm' is not defined",
     "output_type": "error",
     "traceback": [
      "\u001b[0;31m---------------------------------------------------------------------------\u001b[0m",
      "\u001b[0;31mNameError\u001b[0m                                 Traceback (most recent call last)",
      "\u001b[0;32m<ipython-input-3-4c38bd4d2d89>\u001b[0m in \u001b[0;36m<module>\u001b[0;34m\u001b[0m\n\u001b[1;32m      1\u001b[0m \u001b[0;31m# Integrate using trapezoid rule\u001b[0m\u001b[0;34m\u001b[0m\u001b[0;34m\u001b[0m\u001b[0;34m\u001b[0m\u001b[0m\n\u001b[0;32m----> 2\u001b[0;31m \u001b[0mn\u001b[0m \u001b[0;34m=\u001b[0m \u001b[0mlen\u001b[0m\u001b[0;34m(\u001b[0m\u001b[0mrm\u001b[0m\u001b[0;34m)\u001b[0m\u001b[0;34m\u001b[0m\u001b[0;34m\u001b[0m\u001b[0m\n\u001b[0m\u001b[1;32m      3\u001b[0m \u001b[0mm\u001b[0m \u001b[0;34m=\u001b[0m \u001b[0mnp\u001b[0m\u001b[0;34m.\u001b[0m\u001b[0mzeros\u001b[0m\u001b[0;34m(\u001b[0m\u001b[0;34m(\u001b[0m\u001b[0mn\u001b[0m\u001b[0;34m,\u001b[0m\u001b[0;36m1\u001b[0m\u001b[0;34m)\u001b[0m\u001b[0;34m)\u001b[0m\u001b[0;34m\u001b[0m\u001b[0;34m\u001b[0m\u001b[0m\n\u001b[1;32m      4\u001b[0m \u001b[0;32mfor\u001b[0m \u001b[0mk\u001b[0m \u001b[0;32min\u001b[0m \u001b[0mrange\u001b[0m\u001b[0;34m(\u001b[0m\u001b[0mn\u001b[0m\u001b[0;34m-\u001b[0m\u001b[0;36m1\u001b[0m\u001b[0;34m)\u001b[0m\u001b[0;34m:\u001b[0m\u001b[0;34m\u001b[0m\u001b[0;34m\u001b[0m\u001b[0m\n\u001b[1;32m      5\u001b[0m     \u001b[0mmean_rho\u001b[0m \u001b[0;34m=\u001b[0m \u001b[0;36m0.5\u001b[0m \u001b[0;34m*\u001b[0m \u001b[0;34m(\u001b[0m\u001b[0mrhokg\u001b[0m\u001b[0;34m[\u001b[0m\u001b[0mk\u001b[0m\u001b[0;34m]\u001b[0m \u001b[0;34m+\u001b[0m \u001b[0mrhokg\u001b[0m\u001b[0;34m[\u001b[0m\u001b[0mk\u001b[0m\u001b[0;34m+\u001b[0m\u001b[0;36m1\u001b[0m\u001b[0;34m]\u001b[0m\u001b[0;34m)\u001b[0m \u001b[0;31m#these are variables, can add/subtract how many you have, just use this algebraic format\u001b[0m\u001b[0;34m\u001b[0m\u001b[0;34m\u001b[0m\u001b[0m\n",
      "\u001b[0;31mNameError\u001b[0m: name 'rm' is not defined"
     ]
    }
   ],
   "source": [
    "\t# Integrate using trapezoid rule\n",
    "\tn = len(rm)\n",
    "\tm = np.zeros((n,1))\n",
    "\tfor k in range(n-1):\n",
    "\t    mean_rho = 0.5 * (rhokg[k] + rhokg[k+1]) #these are variables, can add/subtract how many you have, just use this algebraic format\n",
    "\t    mean_r2 = 0.5 * (rm[k]**2 + rm[k+1]**2)\n",
    "\t    m[k+1] = m[k] + (rm[k+1]-rm[k]) * (4 * np.pi) * mean_rho * mean_r2 #this is the equation you're integrating\n",
    "\treturn m"
   ]
  },
  {
   "cell_type": "markdown",
   "metadata": {
    "id": "Pd3ATcK8B140"
   },
   "source": [
    "**GOALS AF**\n",
    "\n",
    "*   Just get this code to spit out some number\n",
    "  *   Create an M vector\n",
    "  * Attenuation coefficient\n",
    "  * Play around with paleodata\n",
    "  * Create some placeholder data to just get the code functioning, then replace with actual data later\n",
    "\n"
   ]
  },
  {
   "cell_type": "markdown",
   "metadata": {
    "id": "cxvg4PRO5CMT"
   },
   "source": []
  },
  {
   "cell_type": "code",
   "execution_count": null,
   "metadata": {},
   "outputs": [],
   "source": [
    "#trapz function\n",
    "z = trapz(x,y,dim)\n",
    "#i think they use Z = TRAPZ(X,Y)\n",
    "    #computes the integral of Y wrt X using trapezoidal method. X can be a scalar or a vector w same length as first non singleton dimension in Y\n",
    "    #trapz operates along this dimension\n",
    "\n",
    "if isscalar(x)\n",
    "    z = x*sum((y(1:end-1,:) + y(2:end,:)), 1)/2\n",
    "else\n",
    "z = diff(x,1,1) * (y(1:end-1,:) + y(2:end,:))/2\n",
    "z = reshape(z, [ones(1,nshifts), siz])\n",
    "#this reshape calculates length of the dimension represnted by [], such that the product of the dimensions is nUMEL(x). "
   ]
  },
  {
   "cell_type": "code",
   "execution_count": 40,
   "metadata": {},
   "outputs": [
    {
     "ename": "SyntaxError",
     "evalue": "invalid syntax (<ipython-input-40-e02197f6333c>, line 205)",
     "output_type": "error",
     "traceback": [
      "\u001b[0;36m  File \u001b[0;32m\"<ipython-input-40-e02197f6333c>\"\u001b[0;36m, line \u001b[0;32m205\u001b[0m\n\u001b[0;31m    N.P3n(a) = (trapz(E(clipindex:end),PhiGMev(clipindex:end)*OnxHe3T(clipindex:end)) + trapz(E(clipindex:end),PhiGMev(clipindex:end)*SinxHe3T(clipindex:end)/2))*Natoms3*1e-27*3.1536e7;\u001b[0m\n\u001b[0m                                 ^\u001b[0m\n\u001b[0;31mSyntaxError\u001b[0m\u001b[0;31m:\u001b[0m invalid syntax\n"
     ]
    }
   ],
   "source": [
    "N = Neutrons(h,Rc, s, w, consts, nuclide)\n",
    "Rc = 12\n",
    "h = 1000 #hPa\n",
    "s = 1700\n",
    "w = 0.2 \n",
    "consts = idk\n",
    "nuclide = 3 #he3\n",
    "\n",
    "x = h*1.019716; # Convert pressure (hPa) to atm depth (g/cm2)\n",
    "\n",
    "# E = logspace(-8,5,1000);\n",
    "E = logspace(0,5.3010,200) #energy spectrum\n",
    "# E = [1.1295 11.295 112.95 1129.5 11295];\n",
    "\n",
    "\n",
    "#Flatten low rigidities.\n",
    "\n",
    "#lowRc = find(Rc < 1.0);\n",
    "#Rc(lowRc) = 1.0 + zeros(size(lowRc));\n",
    "\n",
    "#nflux = zeros(length(Rc));\n",
    "\n",
    "#w = 0.2; % water content, from 0-1\n",
    "#s = 1700;\n",
    "#Rc = 12;\n",
    "#x = 1030;\n",
    "Et = 2.5e-8; # Thermal Neutron Energy in MeV\n",
    "\n",
    "# Integrated neutron flux <15 MeV\n",
    "\n",
    "smin = 400; #units of MV\n",
    "smax = 1200; #units of MV\n",
    "\n",
    "a6 = 1.8882e-4;\n",
    "a7 = 4.4791e-1;\n",
    "a8 = 1.4361e-3;\n",
    "a12 = 1.4109e-2;\n",
    "\n",
    "b11min = 2.5702e1;\n",
    "b11max = -6.9221;\n",
    "b12min = -5.0931e-1;\n",
    "b12max = 1.1336;\n",
    "b13min= 7.4650;\n",
    "b13max = 2.6961e1;\n",
    "b14min = 1.2313e1;\n",
    "b14max = 1.1746e1;\n",
    "b15min = 1.0498;\n",
    "b15max = 2.6171;\n",
    "b21min = 6.5143e-3;\n",
    "b21max = 5.3211e-3;\n",
    "b22min = 3.3511e-5;\n",
    "b22max = 8.4899e-5;\n",
    "b23min = 9.4415e-4;\n",
    "b23max = 2.0704e-3;\n",
    "b24min = 1.2088e1;\n",
    "b24max = 1.1714e1;\n",
    "b25min = 2.7782;\n",
    "b25max = 3.8051;\n",
    "b31min = 9.8364e-1;\n",
    "b31max = 9.7536e-1;\n",
    "b32min = 1.4964e-4;\n",
    "b32max = 6.4733e-4;\n",
    "b33min = -7.3249e-1;\n",
    "b33max = -2.2750e-1;\n",
    "b34min = -1.4381;\n",
    "b34max = 2.0713;\n",
    "b35min = 2.7448;\n",
    "b35max = 2.1689;\n",
    "b41min = 8.8681e-3;\n",
    "b41max = 9.1435e-3;\n",
    "b42min = -4.3322e-5;\n",
    "b42max = -6.4855e-5;\n",
    "b43min = 1.7293e-2;\n",
    "b43max = 5.8179e-3;\n",
    "b44min = -1.0836;\n",
    "b44max = 1.0168;\n",
    "b45min = 2.6602;\n",
    "b45max = 2.4504;\n",
    "\n",
    "b121 = 9.31e-1;\n",
    "b122 = 3.70e-2;\n",
    "b123 = -2.02;\n",
    "b124 = 2.12;\n",
    "b125 = 5.34;\n",
    "b131 = 6.67e-4;\n",
    "b132 = -1.19e-5;\n",
    "b133 = 1.00e-4;\n",
    "b134 = 1.45;\n",
    "b135 = 4.29;\n",
    "\n",
    "% Basic Spectrum\n",
    "\n",
    "b51 = 9.7337e-4;\n",
    "b52 = -9.6635e-5;\n",
    "b53 = 1.2121e-2;\n",
    "b54 = 7.1726;\n",
    "b55 = 1.4601;\n",
    "b91 = 5.7199e2;\n",
    "b92 = 7.1293;\n",
    "b93 = -1.0703e2;\n",
    "b94 = 1.8538;\n",
    "b95 = 1.2142;\n",
    "b101 = 6.8552e-4;\n",
    "b102 = 2.7136e-5;\n",
    "b103 = 5.7823e-4;\n",
    "b104 = 8.8534;\n",
    "b105 = 3.6417;\n",
    "b111 = -5.0800e-1;\n",
    "b112 = 1.4783e-1;\n",
    "b113 = 1.0068;\n",
    "b114 = 9.1556;\n",
    "b115 = 1.6369;\n",
    "\n",
    "c1 = 2.3555e-1; # lethargy^-1\n",
    "c2 = 2.3779; # MeV\n",
    "c3 = 7.2597e-1;\n",
    "c5 = 1.2391e2; # MeV\n",
    "c6 = 2.2318; # MeV\n",
    "c7 = 1.0791e-3; # lethargy^-1\n",
    "c8 = 3.6435e-12; # MeV\n",
    "c9 = 1.6595;\n",
    "c10 = 8.4782e-8; # MeV\n",
    "c11 = 1.5054;\n",
    "\n",
    "# Ground-Level Spectrum\n",
    "\n",
    "h31 = -2.5184e1;\n",
    "h32 = 2.7298;\n",
    "h33 = 7.1526e-2;\n",
    "h51 = 3.4790e-1;\n",
    "h52 = 3.3493;\n",
    "h53 = -1.5744;\n",
    "\n",
    "g1 = -0.023499;\n",
    "g2 = -0.012938;\n",
    "g3 = 10^(h31 + h32/(w + h33));\n",
    "g4 = 9.6889e-1;\n",
    "g5 = h51 + h52*w + h53*(w^2);\n",
    "\n",
    "fG = 10^(g1 + g2*log10(E/g3)*(1-tanh(g4*log10(E/g5))));\n",
    "\n",
    "# Thermal Neutron Spectrum\n",
    "\n",
    "h61 = 1.1800e-1;\n",
    "h62 = 1.4438e-1;\n",
    "h63 = 3.8733;\n",
    "h64 = 6.5298e-1;\n",
    "h65 = 4.2752e1;\n",
    "\n",
    "g6 = (h61 + h62*exp(-h63*w))/(1 + h64*exp(-h65*w));\n",
    "\n",
    "PhiT = g6*((E/Et)^2)*exp(-E/Et);\n",
    "\n",
    "# Total Ground-Level Flux\n",
    "\n",
    "PhiB = np.zeros(1,length(E));\n",
    "PhiG = np.zeros(1,length(E));\n",
    "PhiGMev = np.zeros(1,length(E));\n",
    "p10n = np.zeros(1,length(E));\n",
    "p14n = np.zeros(1,length(E));\n",
    "p26n = np.zeros(1,length(E));\n",
    "p3n = np.zeros(1,length(E));\n",
    "p36Can = np.zeros(1,length(E));\n",
    "p36Kn = np.zeros(1,length(E));\n",
    "p36Tin =  np.zeros(1,length(E));\n",
    "p36Fen = np.zeros(1,length(E));\n",
    "\n",
    "for a in range(len(Rc)):\n",
    "    a1min = b11min + b12min*Rc(a) + b13min/(1 + exp((Rc(a) - b14min)/b15min));\n",
    "    a1max = b11max + b12max*Rc(a) + b13max/(1 + exp((Rc(a) - b14max)/b15max));\n",
    "    a2min = b21min + b22min*Rc(a) + b23min/(1 + exp((Rc(a) - b24min)/b25min));\n",
    "    a2max = b21max + b22max*Rc(a) + b23max/(1 + exp((Rc(a) - b24max)/b25max));\n",
    "    a3min = b31min + b32min*Rc(a) + b33min/(1 + exp((Rc(a) - b34min)/b35min));\n",
    "    a3max = b31max + b32max*Rc(a) + b33max/(1 + exp((Rc(a) - b34max)/b35max));\n",
    "    a4min = b41min + b42min*Rc(a) + b43min/(1 + exp((Rc(a) - b44min)/b45min));\n",
    "    a4max = b41max + b42max*Rc(a) + b43max/(1 + exp((Rc(a) - b44max)/b45max));\n",
    "    \n",
    "    a5 = b51 + b52*Rc(a) + b53/(1 + exp((Rc(a) - b54)/b55));\n",
    "    a9 = b91 + b92*Rc(a) + b93/(1 + exp((Rc(a) - b94)/b95));\n",
    "    a10 = b101 + b102*Rc(a) + b103/(1 + exp((Rc(a) - b104)/b105));\n",
    "    a11 = b111 + b112*Rc(a) + b113/(1 + exp((Rc(a) - b114)/b115));\n",
    "    \n",
    "    b5 = b121 + b122*Rc(a) + b123/(1 + exp((Rc(a) - b124)/b125));\n",
    "    b6 = b131 + b132*Rc(a) + b133/(1 + exp((Rc(a) - b134)/b135));\n",
    "\n",
    "    c4 = a5 + a6*x/(1 + a7*exp(a8*x)); # lethargy^-1\n",
    "    c12 = a9*(exp(-a10*x) + a11*exp(-a12*x)); # MeV\n",
    "\n",
    "    PhiLmin = a1min*(exp(-a2min*x) - a3min*exp(-a4min*x)); #length of Rc\n",
    "    PhiLmax = a1max*(exp(-a2max*x) - a3max*exp(-a4max*x)); #length of Rc\n",
    "    \n",
    "    f3 = b5 + b6*x;\n",
    "    f2 = (PhiLmin - PhiLmax)/(smin^f3 - smax^f3);\n",
    "    f1 = PhiLmin - f2*smin^f3;\n",
    "\n",
    "    PhiL = f1 + f2*s(a)^f3;\n",
    "\n",
    "    PhiB = (c1*(E/c2)^c3)*exp(-E/c2) + c4*exp((-(log10(E) - log10(c5))^2)/(2*(log10(c6))^2))+ c7*log10(E/c8)*(1 + tanh(c9*log10(E/c10)))*(1 - tanh(c11*log10(E/c12)));\n",
    "\n",
    "    PhiG = PhiL*(PhiB*fG + PhiT);\n",
    "    PhiGMev = PhiG/E\n",
    "    \n",
    "    clipindex = 1 #find(E <= 1, 1, 'last' ); #Make sure the clip index is consistent with the definition of E above\n",
    "    \n",
    "    N.P3n(a) = (trapz(E(clipindex:end),PhiGMev(clipindex:end)*OnxHe3T(clipindex:end)) + trapz(E(clipindex:end),PhiGMev(clipindex:end)*SinxHe3T(clipindex:end)/2))*Natoms3*1e-27*3.1536e7;    \n",
    "\n",
    "end    \n",
    "\n",
    "N.E = E;\n"
   ]
  },
  {
   "cell_type": "code",
   "execution_count": null,
   "metadata": {},
   "outputs": [],
   "source": []
  }
 ],
 "metadata": {
  "colab": {
   "collapsed_sections": [],
   "name": "ProdRateCalc.ipynb",
   "provenance": []
  },
  "kernelspec": {
   "display_name": "Python 3",
   "language": "python",
   "name": "python3"
  },
  "language_info": {
   "codemirror_mode": {
    "name": "ipython",
    "version": 3
   },
   "file_extension": ".py",
   "mimetype": "text/x-python",
   "name": "python",
   "nbconvert_exporter": "python",
   "pygments_lexer": "ipython3",
   "version": "3.8.3"
  }
 },
 "nbformat": 4,
 "nbformat_minor": 1
}
